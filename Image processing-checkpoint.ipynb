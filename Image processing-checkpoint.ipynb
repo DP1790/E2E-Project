{
 "cells": [
  {
   "cell_type": "markdown",
   "id": "3f9f7d33",
   "metadata": {},
   "source": [
    "### Case study"
   ]
  },
  {
   "cell_type": "markdown",
   "id": "7641007d",
   "metadata": {},
   "source": [
    "- In today increasingly complicated world with a variety of businesses and procedures within, manually extracting information from invoices can be time-consuming. Additionally, there are various issues that arise throughout the processing of an invoice. Develop a method to retrieve this data automatically thatcould help businesses digitize and automate the whole process of invoice extraction.\n",
    "- We need to extract the Data-Points like company name, amount, address and date"
   ]
  },
  {
   "cell_type": "markdown",
   "id": "980c868c",
   "metadata": {},
   "source": [
    "### Conclusion"
   ]
  },
  {
   "cell_type": "markdown",
   "id": "5ffb7088",
   "metadata": {},
   "source": [
    "- As we have millions of scanned receipt images, which is almost are in same format. We will be trying to select few images and try to build model using pytesseract OCR and boundig boxes to get the required data as it needs higher system configuration having very good GPU to get the data from all images. so for now let's build with few images and check.\n",
    "- Once we have built the solution, we will save it github repo & deploy in heoku using docker."
   ]
  },
  {
   "cell_type": "code",
   "execution_count": null,
   "id": "9377d6e8",
   "metadata": {},
   "outputs": [],
   "source": [
    "## Importing neccessary libraries\n",
    "import re\n",
    "import cv2 \n",
    "import numpy as np\n",
    "import pytesseract\n",
    "from pytesseract import Output\n",
    "import pandas as pd"
   ]
  },
  {
   "cell_type": "code",
   "execution_count": 3,
   "id": "6eba7183",
   "metadata": {},
   "outputs": [],
   "source": [
    "import pytesseract\n",
    "pytesseract.pytesseract.tesseract_cmd = r'C:\\Program Files\\Tesseract-OCR\\tesseract'"
   ]
  },
  {
   "cell_type": "markdown",
   "id": "cf54684b",
   "metadata": {},
   "source": [
    "#### Checking for 1st invoice"
   ]
  },
  {
   "cell_type": "code",
   "execution_count": 66,
   "id": "1d7606c6",
   "metadata": {},
   "outputs": [],
   "source": [
    "# Plot 1st original image\n",
    "\n",
    "image = cv2.imread('X00016469612.jpg')\n",
    "cv2.imshow('sample image', image)\n",
    "cv2.waitKey(0)\n",
    "cv2.destroyAllWindows()\n"
   ]
  },
  {
   "cell_type": "code",
   "execution_count": 5,
   "id": "b55347bc",
   "metadata": {},
   "outputs": [
    {
     "name": "stdout",
     "output_type": "stream",
     "text": [
      "tan woon yann\n",
      "\n",
      "BOOK TAK (TAMAN DAYA) SDN BHD\n",
      "PBO4N7-W\n",
      "NO.5? 55,57 & 59, JALAN SAGU 18,\n",
      "TAMAN DAYA\n",
      "81100 JOHOR BAHRU,\n",
      "JOHOR.\n",
      "\n",
      "WAM MITT ANE Tt\n",
      "\n",
      "Document No : TDO1167104\n",
      "\n",
      "Date 25/12/2018 8:13:39 PM\n",
      "Cashier MANIS\n",
      "Member\n",
      "CASH BILL\n",
      "CODE/DESC PRICE — Disc AMOUITE\n",
      "Quy RM RM\n",
      "9556939040118 KF MODELLING CLAY KIDDY FISH\n",
      "1PC * 9.00) 6,00 9.00\n",
      "Total 9,00\n",
      "Rour ding Adjustment 0.00\n",
      "\n",
      "Round::d Total (RM):\n",
      "\n",
      "9.60\n",
      "\n",
      "Cash\n",
      "CHANGE\n",
      "\n",
      "GOODS SOLD ARE NOT RETURNAP\n",
      "EXCHANGEABLE\n",
      "\n",
      "THANK YOU\n",
      "PLEASE COME AGATY t\n",
      "\n"
     ]
    }
   ],
   "source": [
    "## Getting the text from image\n",
    "txt = pytesseract.image_to_string(image)\n",
    "print(txt)"
   ]
  },
  {
   "cell_type": "code",
   "execution_count": 67,
   "id": "dc54105c",
   "metadata": {},
   "outputs": [],
   "source": [
    "## Bounding boxes\n",
    "\n",
    "img = cv2.imread('X00016469612.jpg')\n",
    "height, width, _ = img.shape\n",
    "\n",
    "boxes = pytesseract.image_to_boxes(img)\n",
    "for box in boxes.splitlines():\n",
    "    box = box.split(\" \")\n",
    "    img = cv2.rectangle(img, (int(box[1]), height -int(box[2])), (int(box[3]), height - int(box[4])), (0, 225, 0), 2)\n",
    "    \n",
    "cv2.imshow('img', img)\n",
    "cv2.waitKey(0)\n",
    "cv2.destroyAllWindows()"
   ]
  },
  {
   "cell_type": "code",
   "execution_count": 6,
   "id": "2e69fe3f",
   "metadata": {},
   "outputs": [
    {
     "data": {
      "text/plain": [
       "483"
      ]
     },
     "execution_count": 6,
     "metadata": {},
     "output_type": "execute_result"
    }
   ],
   "source": [
    "len(txt) ## checking the original length"
   ]
  },
  {
   "cell_type": "code",
   "execution_count": 8,
   "id": "247541f7",
   "metadata": {},
   "outputs": [
    {
     "name": "stdout",
     "output_type": "stream",
     "text": [
      "['tan woon yann', '', 'BOOK TAK (TAMAN DAYA) SDN BHD', 'PBO4N7-W', 'NO.5? 55,57 & 59, JALAN SAGU 18,', 'TAMAN DAYA', '81100 JOHOR BAHRU,', 'JOHOR.', '', 'WAM MITT ANE Tt', '', 'Document No : TDO1167104', '', 'Date 25/12/2018 8:13:39 PM', 'Cashier MANIS', 'Member', 'CASH BILL', 'CODE/DESC PRICE — Disc AMOUITE', 'Quy RM RM', '9556939040118 KF MODELLING CLAY KIDDY FISH', '1PC * 9.00) 6,00 9.00', 'Total 9,00', 'Rour ding Adjustment 0.00', '', 'Round::d Total (RM):', '', '9.60', '', 'Cash', 'CHANGE', '', 'GOODS SOLD ARE NOT RETURNAP', 'EXCHANGEABLE', '', 'THANK YOU', 'PLEASE COME AGATY t', '']\n"
     ]
    }
   ],
   "source": [
    "res = re.split(\"\\n\",txt) ## removing the next line\n",
    "print(res)"
   ]
  },
  {
   "cell_type": "code",
   "execution_count": 9,
   "id": "03f05b5e",
   "metadata": {},
   "outputs": [
    {
     "data": {
      "text/plain": [
       "37"
      ]
     },
     "execution_count": 9,
     "metadata": {},
     "output_type": "execute_result"
    }
   ],
   "source": [
    "len(res) ## checking the length after removing the extra lines"
   ]
  },
  {
   "cell_type": "code",
   "execution_count": 10,
   "id": "0614ea3e",
   "metadata": {},
   "outputs": [],
   "source": [
    "## removing the empty strings\n",
    "for i in res:\n",
    "    if(len(i)==0):\n",
    "        res.remove(i)"
   ]
  },
  {
   "cell_type": "code",
   "execution_count": 11,
   "id": "6111659a",
   "metadata": {},
   "outputs": [
    {
     "data": {
      "text/plain": [
       "['tan woon yann',\n",
       " 'BOOK TAK (TAMAN DAYA) SDN BHD',\n",
       " 'PBO4N7-W',\n",
       " 'NO.5? 55,57 & 59, JALAN SAGU 18,',\n",
       " 'TAMAN DAYA',\n",
       " '81100 JOHOR BAHRU,',\n",
       " 'JOHOR.',\n",
       " 'WAM MITT ANE Tt',\n",
       " 'Document No : TDO1167104',\n",
       " 'Date 25/12/2018 8:13:39 PM',\n",
       " 'Cashier MANIS',\n",
       " 'Member',\n",
       " 'CASH BILL',\n",
       " 'CODE/DESC PRICE — Disc AMOUITE',\n",
       " 'Quy RM RM',\n",
       " '9556939040118 KF MODELLING CLAY KIDDY FISH',\n",
       " '1PC * 9.00) 6,00 9.00',\n",
       " 'Total 9,00',\n",
       " 'Rour ding Adjustment 0.00',\n",
       " 'Round::d Total (RM):',\n",
       " '9.60',\n",
       " 'Cash',\n",
       " 'CHANGE',\n",
       " 'GOODS SOLD ARE NOT RETURNAP',\n",
       " 'EXCHANGEABLE',\n",
       " 'THANK YOU',\n",
       " 'PLEASE COME AGATY t']"
      ]
     },
     "execution_count": 11,
     "metadata": {},
     "output_type": "execute_result"
    }
   ],
   "source": [
    "res"
   ]
  },
  {
   "cell_type": "code",
   "execution_count": 12,
   "id": "6f484a8a",
   "metadata": {},
   "outputs": [
    {
     "data": {
      "text/plain": [
       "27"
      ]
     },
     "execution_count": 12,
     "metadata": {},
     "output_type": "execute_result"
    }
   ],
   "source": [
    "len(res) ## final length"
   ]
  },
  {
   "cell_type": "markdown",
   "id": "895dc0c6",
   "metadata": {},
   "source": [
    "#### Checking name"
   ]
  },
  {
   "cell_type": "code",
   "execution_count": 85,
   "id": "9416c02f",
   "metadata": {},
   "outputs": [
    {
     "name": "stdout",
     "output_type": "stream",
     "text": [
      "Name = BOOK TAK (TAMAN DAYA) SDN BHD\n"
     ]
    }
   ],
   "source": [
    "print('Name =', res[1])"
   ]
  },
  {
   "cell_type": "markdown",
   "id": "8cf0383e",
   "metadata": {},
   "source": [
    "#### Checking Address"
   ]
  },
  {
   "cell_type": "code",
   "execution_count": 14,
   "id": "eec500e6",
   "metadata": {},
   "outputs": [
    {
     "data": {
      "text/plain": [
       "['NO.5? 55,57 & 59, JALAN SAGU 18,',\n",
       " 'TAMAN DAYA',\n",
       " '81100 JOHOR BAHRU,',\n",
       " 'JOHOR.']"
      ]
     },
     "execution_count": 14,
     "metadata": {},
     "output_type": "execute_result"
    }
   ],
   "source": [
    "add0 = res[3:7] # using indexing and slicing to get the specific data\n",
    "add0"
   ]
  },
  {
   "cell_type": "code",
   "execution_count": 15,
   "id": "23db0cf9",
   "metadata": {},
   "outputs": [
    {
     "name": "stdout",
     "output_type": "stream",
     "text": [
      "Address= NO.5? 55,57 & 59, JALAN SAGU 18, TAMAN DAYA 81100 JOHOR BAHRU, JOHOR.\n"
     ]
    }
   ],
   "source": [
    "final_add0 = ' '.join(add0)\n",
    "print('Address=',final_add0)"
   ]
  },
  {
   "cell_type": "markdown",
   "id": "ce7678d3",
   "metadata": {},
   "source": [
    "#### Date"
   ]
  },
  {
   "cell_type": "code",
   "execution_count": 16,
   "id": "b0357a6a",
   "metadata": {},
   "outputs": [
    {
     "name": "stdout",
     "output_type": "stream",
     "text": [
      "Date= Date 25/12/2018 8:13:39 PM\n"
     ]
    }
   ],
   "source": [
    "print('Date=', res[9])"
   ]
  },
  {
   "cell_type": "code",
   "execution_count": 108,
   "id": "5cc3cf95",
   "metadata": {},
   "outputs": [
    {
     "name": "stdout",
     "output_type": "stream",
     "text": [
      "25/12/2018\n"
     ]
    }
   ],
   "source": [
    "dt =re.findall(r'\\d+[/.-]\\d+[/.-]\\d+', txt)\n",
    "ft=\" \"\n",
    "ft=ft.join(dt)\n",
    "print(ft)"
   ]
  },
  {
   "cell_type": "markdown",
   "id": "59a993bc",
   "metadata": {},
   "source": [
    "#### Total amount"
   ]
  },
  {
   "cell_type": "code",
   "execution_count": 18,
   "id": "b85e858f",
   "metadata": {},
   "outputs": [
    {
     "name": "stdout",
     "output_type": "stream",
     "text": [
      "Total= 1PC * 9.00) 6,00 9.00\n"
     ]
    }
   ],
   "source": [
    "print('Total=', res[16])"
   ]
  },
  {
   "cell_type": "code",
   "execution_count": 19,
   "id": "c79b786b",
   "metadata": {},
   "outputs": [
    {
     "data": {
      "text/plain": [
       "['1PC', '*', '9.00)', '6,00', '9.00']"
      ]
     },
     "execution_count": 19,
     "metadata": {},
     "output_type": "execute_result"
    }
   ],
   "source": [
    "amt = res[16].split()\n",
    "amt"
   ]
  },
  {
   "cell_type": "code",
   "execution_count": 20,
   "id": "955f7f9b",
   "metadata": {},
   "outputs": [
    {
     "name": "stdout",
     "output_type": "stream",
     "text": [
      "Total= 9.00\n"
     ]
    }
   ],
   "source": [
    "print('Total=',amt[4])"
   ]
  },
  {
   "cell_type": "markdown",
   "id": "76e18212",
   "metadata": {},
   "source": [
    "### Final Output"
   ]
  },
  {
   "cell_type": "code",
   "execution_count": 110,
   "id": "23c3e5c5",
   "metadata": {},
   "outputs": [
    {
     "name": "stdout",
     "output_type": "stream",
     "text": [
      "Name = BOOK TAK (TAMAN DAYA) SDN BHD \n",
      "Address= NO.5? 55,57 & 59, JALAN SAGU 18, TAMAN DAYA 81100 JOHOR BAHRU, JOHOR. \n",
      "Total= 9.00 \n",
      " 25/12/2018\n"
     ]
    }
   ],
   "source": [
    "print('Name =', res[1],'\\n''Address=',final_add0,'\\n''Total=',amt[4],'\\n',ft)"
   ]
  },
  {
   "cell_type": "markdown",
   "id": "d2fb8249",
   "metadata": {},
   "source": [
    "#### Checking for 2nd invoice"
   ]
  },
  {
   "cell_type": "markdown",
   "id": "484f1408",
   "metadata": {},
   "source": [
    "- We need to follow same steps as above to get the specific data from invoice for 2nd and 3rd invoice"
   ]
  },
  {
   "cell_type": "code",
   "execution_count": 21,
   "id": "3b865440",
   "metadata": {},
   "outputs": [],
   "source": [
    "# Plot 2nd original image\n",
    "\n",
    "image = cv2.imread('pic1.jpg')\n",
    "cv2.imshow('sample image', image)\n",
    "cv2.waitKey(0)\n",
    "cv2.destroyAllWindows()\n"
   ]
  },
  {
   "cell_type": "code",
   "execution_count": 22,
   "id": "6c66007a",
   "metadata": {},
   "outputs": [
    {
     "name": "stdout",
     "output_type": "stream",
     "text": [
      "tan chay yee\n",
      "\n",
      "OJC MARKETING SDN BHD\n",
      "ROC NO: 538358-H\n",
      "NO 2 & 4, JALAN BAYU 4,\n",
      "BANDAR SERI ALAM,\n",
      "81750 MASAI, JOHOR\n",
      "Tel:07-388 2218 Fax:07-386 9218\n",
      "Email: ng@ojegroup.com\n",
      "\n",
      "Cash Bill\n",
      "\n",
      "“Fnvoice No\" PEGIV-1030831\n",
      "Date 02/01/2019 2:47:14 PM\n",
      "Cashier: RHYS TAN\n",
      "\n",
      "Sales Persor : FATIN\n",
      "\n",
      "__Descniption ——Qty_——Price_ Amount\n",
      "oooado2i1 1170.00 “170.00\n",
      "KINGS SAFETY Poot\n",
      "\n",
      "SHOES KWO 805\n",
      "\n",
      "“Qty T Total Ttem Discoun\n",
      "Total Amount:\n",
      "\n",
      "TOTAL:\n",
      "VISA CARD: 170.00\n",
      "2600000000643 18\n",
      "\n",
      "Approval Code:123 I. WO\n",
      "\n",
      "Goods Sold Are Not Returnable & Refundable\n",
      "~*=*Thank You. Please Come Again.****\n",
      "\n"
     ]
    }
   ],
   "source": [
    "txt1 = pytesseract.image_to_string(image)\n",
    "print(txt1)"
   ]
  },
  {
   "cell_type": "code",
   "execution_count": 23,
   "id": "dc443ba4",
   "metadata": {},
   "outputs": [
    {
     "data": {
      "text/plain": [
       "562"
      ]
     },
     "execution_count": 23,
     "metadata": {},
     "output_type": "execute_result"
    }
   ],
   "source": [
    "len(txt1)"
   ]
  },
  {
   "cell_type": "code",
   "execution_count": 63,
   "id": "3bab005b",
   "metadata": {},
   "outputs": [],
   "source": [
    "img = cv2.imread('pic1.jpg')\n",
    "height, width, _ = img.shape\n",
    "\n",
    "boxes = pytesseract.image_to_boxes(img)\n",
    "for box in boxes.splitlines():\n",
    "    box = box.split(\" \")\n",
    "    img = cv2.rectangle(img, (int(box[1]), height -int(box[2])), (int(box[3]), height - int(box[4])), (0, 225, 0), 2)\n",
    "    \n",
    "cv2.imshow('img', img)\n",
    "cv2.waitKey(0)\n",
    "cv2.destroyAllWindows()"
   ]
  },
  {
   "cell_type": "code",
   "execution_count": 24,
   "id": "2828812e",
   "metadata": {},
   "outputs": [
    {
     "name": "stdout",
     "output_type": "stream",
     "text": [
      "['tan chay yee', '', 'OJC MARKETING SDN BHD', 'ROC NO: 538358-H', 'NO 2 & 4, JALAN BAYU 4,', 'BANDAR SERI ALAM,', '81750 MASAI, JOHOR', 'Tel:07-388 2218 Fax:07-386 9218', 'Email: ng@ojegroup.com', '', 'Cash Bill', '', '“Fnvoice No\" PEGIV-1030831', 'Date 02/01/2019 2:47:14 PM', 'Cashier: RHYS TAN', '', 'Sales Persor : FATIN', '', '__Descniption ——Qty_——Price_ Amount', 'oooado2i1 1170.00 “170.00', 'KINGS SAFETY Poot', '', 'SHOES KWO 805', '', '“Qty T Total Ttem Discoun', 'Total Amount:', '', 'TOTAL:', 'VISA CARD: 170.00', '2600000000643 18', '', 'Approval Code:123 I. WO', '', 'Goods Sold Are Not Returnable & Refundable', '~*=*Thank You. Please Come Again.****', '']\n"
     ]
    }
   ],
   "source": [
    "res1 = re.split(\"\\n\",txt1)\n",
    "print(res1)"
   ]
  },
  {
   "cell_type": "code",
   "execution_count": 25,
   "id": "5d81af2c",
   "metadata": {},
   "outputs": [],
   "source": [
    "for i in res1:\n",
    "    if(len(i)==0):\n",
    "        res1.remove(i)"
   ]
  },
  {
   "cell_type": "code",
   "execution_count": 26,
   "id": "96dd407c",
   "metadata": {},
   "outputs": [
    {
     "data": {
      "text/plain": [
       "['tan chay yee',\n",
       " 'OJC MARKETING SDN BHD',\n",
       " 'ROC NO: 538358-H',\n",
       " 'NO 2 & 4, JALAN BAYU 4,',\n",
       " 'BANDAR SERI ALAM,',\n",
       " '81750 MASAI, JOHOR',\n",
       " 'Tel:07-388 2218 Fax:07-386 9218',\n",
       " 'Email: ng@ojegroup.com',\n",
       " 'Cash Bill',\n",
       " '“Fnvoice No\" PEGIV-1030831',\n",
       " 'Date 02/01/2019 2:47:14 PM',\n",
       " 'Cashier: RHYS TAN',\n",
       " 'Sales Persor : FATIN',\n",
       " '__Descniption ——Qty_——Price_ Amount',\n",
       " 'oooado2i1 1170.00 “170.00',\n",
       " 'KINGS SAFETY Poot',\n",
       " 'SHOES KWO 805',\n",
       " '“Qty T Total Ttem Discoun',\n",
       " 'Total Amount:',\n",
       " 'TOTAL:',\n",
       " 'VISA CARD: 170.00',\n",
       " '2600000000643 18',\n",
       " 'Approval Code:123 I. WO',\n",
       " 'Goods Sold Are Not Returnable & Refundable',\n",
       " '~*=*Thank You. Please Come Again.****']"
      ]
     },
     "execution_count": 26,
     "metadata": {},
     "output_type": "execute_result"
    }
   ],
   "source": [
    "res1"
   ]
  },
  {
   "cell_type": "code",
   "execution_count": 27,
   "id": "aec9bef7",
   "metadata": {},
   "outputs": [
    {
     "data": {
      "text/plain": [
       "25"
      ]
     },
     "execution_count": 27,
     "metadata": {},
     "output_type": "execute_result"
    }
   ],
   "source": [
    "len(res1)"
   ]
  },
  {
   "cell_type": "code",
   "execution_count": 28,
   "id": "05a0f7e5",
   "metadata": {},
   "outputs": [
    {
     "name": "stdout",
     "output_type": "stream",
     "text": [
      "Name = OJC MARKETING SDN BHD\n"
     ]
    }
   ],
   "source": [
    "print('Name =', res1[1])"
   ]
  },
  {
   "cell_type": "code",
   "execution_count": 29,
   "id": "d796675f",
   "metadata": {},
   "outputs": [
    {
     "data": {
      "text/plain": [
       "['NO 2 & 4, JALAN BAYU 4,', 'BANDAR SERI ALAM,', '81750 MASAI, JOHOR']"
      ]
     },
     "execution_count": 29,
     "metadata": {},
     "output_type": "execute_result"
    }
   ],
   "source": [
    "add2 = res1[3:6]\n",
    "add2"
   ]
  },
  {
   "cell_type": "code",
   "execution_count": 30,
   "id": "d0fcf612",
   "metadata": {},
   "outputs": [
    {
     "name": "stdout",
     "output_type": "stream",
     "text": [
      "Address= NO 2 & 4, JALAN BAYU 4, BANDAR SERI ALAM, 81750 MASAI, JOHOR\n"
     ]
    }
   ],
   "source": [
    "final_add = ' '.join(add2)\n",
    "print('Address=',final_add)"
   ]
  },
  {
   "cell_type": "code",
   "execution_count": 31,
   "id": "6ed7452d",
   "metadata": {},
   "outputs": [
    {
     "name": "stdout",
     "output_type": "stream",
     "text": [
      "Total= VISA CARD: 170.00\n"
     ]
    }
   ],
   "source": [
    "print('Total=', res1[20])"
   ]
  },
  {
   "cell_type": "code",
   "execution_count": 32,
   "id": "8146e585",
   "metadata": {},
   "outputs": [],
   "source": [
    "Amount = res1[20].split()"
   ]
  },
  {
   "cell_type": "code",
   "execution_count": 33,
   "id": "9758c9ab",
   "metadata": {},
   "outputs": [
    {
     "name": "stdout",
     "output_type": "stream",
     "text": [
      "['VISA', 'CARD:', '170.00']\n"
     ]
    }
   ],
   "source": [
    "print(Amount)"
   ]
  },
  {
   "cell_type": "code",
   "execution_count": 34,
   "id": "c51022db",
   "metadata": {},
   "outputs": [
    {
     "name": "stdout",
     "output_type": "stream",
     "text": [
      "Total= 170.00\n"
     ]
    }
   ],
   "source": [
    "print('Total=',Amount[2])"
   ]
  },
  {
   "cell_type": "code",
   "execution_count": 111,
   "id": "9aa06a2c",
   "metadata": {},
   "outputs": [
    {
     "name": "stdout",
     "output_type": "stream",
     "text": [
      "02/01/2019\n"
     ]
    }
   ],
   "source": [
    "dt1 =re.findall(r'\\d+[/.-]\\d+[/.-]\\d+', txt1)\n",
    "ft1=\" \"\n",
    "ft1=ft1.join(dt1)\n",
    "print(ft1)"
   ]
  },
  {
   "cell_type": "markdown",
   "id": "d0d13f06",
   "metadata": {},
   "source": [
    "### Final output "
   ]
  },
  {
   "cell_type": "code",
   "execution_count": 112,
   "id": "221ace2b",
   "metadata": {},
   "outputs": [
    {
     "name": "stdout",
     "output_type": "stream",
     "text": [
      "Name = OJC MARKETING SDN BHD \n",
      "Address= NO 2 & 4, JALAN BAYU 4, BANDAR SERI ALAM, 81750 MASAI, JOHOR \n",
      "Total= 170.00 \n",
      " 02/01/2019\n"
     ]
    }
   ],
   "source": [
    "print('Name =', res1[1],'\\n''Address=',final_add,'\\n''Total=',Amount[2],'\\n',ft1)"
   ]
  },
  {
   "cell_type": "markdown",
   "id": "9c9994d9",
   "metadata": {},
   "source": [
    "#### Checking for 3rd invoice"
   ]
  },
  {
   "cell_type": "code",
   "execution_count": 36,
   "id": "30996f8b",
   "metadata": {},
   "outputs": [],
   "source": [
    "# Plot 3rd original image\n",
    "\n",
    "image = cv2.imread('X51005676538.jpg')\n",
    "cv2.imshow('sample image', image)\n",
    "cv2.waitKey(0)\n",
    "cv2.destroyAllWindows()"
   ]
  },
  {
   "cell_type": "code",
   "execution_count": 37,
   "id": "9e95aeeb",
   "metadata": {},
   "outputs": [
    {
     "name": "stdout",
     "output_type": "stream",
     "text": [
      "9 \\g Of O14\n",
      "\n",
      "4\n",
      "\n",
      "SYARIKAT PERNIAGAAN GIN KEE\n",
      "(81109-A)\n",
      "NO 290, JALAN AIR PANAS,\n",
      "SETAPAK,\n",
      "$3200, KUALA LUMPUR.\n",
      "TEL : 03-40210276\n",
      "GST ID : 000750673920\n",
      "SIMPLIFIED TAX INVOICE\n",
      "\n",
      "‘CASH\n",
      "Doc No ~ ©S00012543 Date: 04/01/2018\n",
      "Cashier USER Time: 16:39:00\n",
      "Salesperson - Ref. :\n",
      "lttem_ Qty S/Price Amount Tax\n",
      "2402 1 3.71 3.71 SR\n",
      "25MM GI NIPPLE\n",
      "1462 2 0.64 1.27 SR\n",
      "SEAL TAPE\n",
      "1748 1 5.83 583 SR\n",
      "32MM POLY SOCKET\n",
      "2247 1 33.92 33.92 SR\n",
      "1\" BALL VALVE\n",
      "r TotalQty, 6 44.73\n",
      "Total Sales (Excluding GST) : 42.20\n",
      "Discount : 0.00\n",
      "TotalGST : 2.53\n",
      "Rounding - 0.00\n",
      "Total Sales (Inclusive of GST) : 44.73\n",
      "CASH : 44.73\n",
      "Change : 0.00\n",
      "\n",
      "GST SUMMARY\n",
      "\n",
      "Tax Code ‘ Amt(RM) Tax(RM)\n",
      "SR 6 42.20 2:53\n",
      "\n",
      "Total : 42.20 2.53 |/\n",
      "\n",
      "GOODS SOLD ARE NOT RETURNABLE, THANK YOU.\n",
      "\n",
      "-_\n",
      "\n"
     ]
    }
   ],
   "source": [
    "txt2 = pytesseract.image_to_string(image)\n",
    "print(txt2)"
   ]
  },
  {
   "cell_type": "code",
   "execution_count": 38,
   "id": "32a30149",
   "metadata": {},
   "outputs": [
    {
     "data": {
      "text/plain": [
       "729"
      ]
     },
     "execution_count": 38,
     "metadata": {},
     "output_type": "execute_result"
    }
   ],
   "source": [
    "len(txt2)"
   ]
  },
  {
   "cell_type": "code",
   "execution_count": 68,
   "id": "6ba95570",
   "metadata": {},
   "outputs": [],
   "source": [
    "img = cv2.imread('X51005676538.jpg')\n",
    "height, width, _ = img.shape\n",
    "\n",
    "boxes = pytesseract.image_to_boxes(img)\n",
    "for box in boxes.splitlines():\n",
    "    box = box.split(\" \")\n",
    "    img = cv2.rectangle(img, (int(box[1]), height -int(box[2])), (int(box[3]), height - int(box[4])), (0, 225, 0), 2)\n",
    "    \n",
    "cv2.imshow('img', img)\n",
    "cv2.waitKey(0)\n",
    "cv2.destroyAllWindows()"
   ]
  },
  {
   "cell_type": "code",
   "execution_count": 39,
   "id": "17b18321",
   "metadata": {},
   "outputs": [
    {
     "name": "stdout",
     "output_type": "stream",
     "text": [
      "['9 \\\\g Of O14', '', '4', '', 'SYARIKAT PERNIAGAAN GIN KEE', '(81109-A)', 'NO 290, JALAN AIR PANAS,', 'SETAPAK,', '$3200, KUALA LUMPUR.', 'TEL : 03-40210276', 'GST ID : 000750673920', 'SIMPLIFIED TAX INVOICE', '', '‘CASH', 'Doc No ~ ©S00012543 Date: 04/01/2018', 'Cashier USER Time: 16:39:00', 'Salesperson - Ref. :', 'lttem_ Qty S/Price Amount Tax', '2402 1 3.71 3.71 SR', '25MM GI NIPPLE', '1462 2 0.64 1.27 SR', 'SEAL TAPE', '1748 1 5.83 583 SR', '32MM POLY SOCKET', '2247 1 33.92 33.92 SR', '1\" BALL VALVE', 'r TotalQty, 6 44.73', 'Total Sales (Excluding GST) : 42.20', 'Discount : 0.00', 'TotalGST : 2.53', 'Rounding - 0.00', 'Total Sales (Inclusive of GST) : 44.73', 'CASH : 44.73', 'Change : 0.00', '', 'GST SUMMARY', '', 'Tax Code ‘ Amt(RM) Tax(RM)', 'SR 6 42.20 2:53', '', 'Total : 42.20 2.53 |/', '', 'GOODS SOLD ARE NOT RETURNABLE, THANK YOU.', '', '-_', '']\n"
     ]
    }
   ],
   "source": [
    "res2 = re.split(\"\\n\",txt2)\n",
    "print(res2)"
   ]
  },
  {
   "cell_type": "code",
   "execution_count": 40,
   "id": "1bb317d2",
   "metadata": {},
   "outputs": [
    {
     "data": {
      "text/plain": [
       "46"
      ]
     },
     "execution_count": 40,
     "metadata": {},
     "output_type": "execute_result"
    }
   ],
   "source": [
    "len(res2)"
   ]
  },
  {
   "cell_type": "code",
   "execution_count": 41,
   "id": "447d86a9",
   "metadata": {},
   "outputs": [],
   "source": [
    "for i in res2:\n",
    "    if(len(i)==0):\n",
    "        res2.remove(i)"
   ]
  },
  {
   "cell_type": "code",
   "execution_count": 42,
   "id": "42f65f5b",
   "metadata": {},
   "outputs": [
    {
     "data": {
      "text/plain": [
       "['9 \\\\g Of O14',\n",
       " '4',\n",
       " 'SYARIKAT PERNIAGAAN GIN KEE',\n",
       " '(81109-A)',\n",
       " 'NO 290, JALAN AIR PANAS,',\n",
       " 'SETAPAK,',\n",
       " '$3200, KUALA LUMPUR.',\n",
       " 'TEL : 03-40210276',\n",
       " 'GST ID : 000750673920',\n",
       " 'SIMPLIFIED TAX INVOICE',\n",
       " '‘CASH',\n",
       " 'Doc No ~ ©S00012543 Date: 04/01/2018',\n",
       " 'Cashier USER Time: 16:39:00',\n",
       " 'Salesperson - Ref. :',\n",
       " 'lttem_ Qty S/Price Amount Tax',\n",
       " '2402 1 3.71 3.71 SR',\n",
       " '25MM GI NIPPLE',\n",
       " '1462 2 0.64 1.27 SR',\n",
       " 'SEAL TAPE',\n",
       " '1748 1 5.83 583 SR',\n",
       " '32MM POLY SOCKET',\n",
       " '2247 1 33.92 33.92 SR',\n",
       " '1\" BALL VALVE',\n",
       " 'r TotalQty, 6 44.73',\n",
       " 'Total Sales (Excluding GST) : 42.20',\n",
       " 'Discount : 0.00',\n",
       " 'TotalGST : 2.53',\n",
       " 'Rounding - 0.00',\n",
       " 'Total Sales (Inclusive of GST) : 44.73',\n",
       " 'CASH : 44.73',\n",
       " 'Change : 0.00',\n",
       " 'GST SUMMARY',\n",
       " 'Tax Code ‘ Amt(RM) Tax(RM)',\n",
       " 'SR 6 42.20 2:53',\n",
       " 'Total : 42.20 2.53 |/',\n",
       " 'GOODS SOLD ARE NOT RETURNABLE, THANK YOU.',\n",
       " '-_']"
      ]
     },
     "execution_count": 42,
     "metadata": {},
     "output_type": "execute_result"
    }
   ],
   "source": [
    "res2"
   ]
  },
  {
   "cell_type": "code",
   "execution_count": 43,
   "id": "2efab620",
   "metadata": {},
   "outputs": [
    {
     "data": {
      "text/plain": [
       "37"
      ]
     },
     "execution_count": 43,
     "metadata": {},
     "output_type": "execute_result"
    }
   ],
   "source": [
    "len(res2)"
   ]
  },
  {
   "cell_type": "code",
   "execution_count": 74,
   "id": "97eaf707",
   "metadata": {},
   "outputs": [
    {
     "name": "stdout",
     "output_type": "stream",
     "text": [
      "Name = SYARIKAT PERNIAGAAN GIN KEE\n"
     ]
    }
   ],
   "source": [
    "Name = print('Name =', res2[2])"
   ]
  },
  {
   "cell_type": "code",
   "execution_count": 45,
   "id": "74229c0b",
   "metadata": {},
   "outputs": [],
   "source": [
    "Add = res2[4:6]"
   ]
  },
  {
   "cell_type": "code",
   "execution_count": 46,
   "id": "2daa68cc",
   "metadata": {},
   "outputs": [
    {
     "data": {
      "text/plain": [
       "['NO 290, JALAN AIR PANAS,', 'SETAPAK,']"
      ]
     },
     "execution_count": 46,
     "metadata": {},
     "output_type": "execute_result"
    }
   ],
   "source": [
    "Add"
   ]
  },
  {
   "cell_type": "code",
   "execution_count": 47,
   "id": "0db0fded",
   "metadata": {},
   "outputs": [],
   "source": [
    "Add1 = res2[6]"
   ]
  },
  {
   "cell_type": "code",
   "execution_count": 48,
   "id": "af400ea0",
   "metadata": {},
   "outputs": [
    {
     "data": {
      "text/plain": [
       "['KUALA', 'LUMPUR.']"
      ]
     },
     "execution_count": 48,
     "metadata": {},
     "output_type": "execute_result"
    }
   ],
   "source": [
    "n = Add1.split()[1:3]\n",
    "n"
   ]
  },
  {
   "cell_type": "code",
   "execution_count": 49,
   "id": "f26d0f07",
   "metadata": {},
   "outputs": [
    {
     "data": {
      "text/plain": [
       "['NO 290, JALAN AIR PANAS,', 'SETAPAK,', 'KUALA', 'LUMPUR.']"
      ]
     },
     "execution_count": 49,
     "metadata": {},
     "output_type": "execute_result"
    }
   ],
   "source": [
    "new_add = Add+n\n",
    "new_add"
   ]
  },
  {
   "cell_type": "code",
   "execution_count": 50,
   "id": "4859b609",
   "metadata": {},
   "outputs": [
    {
     "name": "stdout",
     "output_type": "stream",
     "text": [
      "Address= NO 290, JALAN AIR PANAS, SETAPAK, KUALA LUMPUR.\n"
     ]
    }
   ],
   "source": [
    "final_add1 = ' '.join(new_add)\n",
    "print('Address=',final_add1)"
   ]
  },
  {
   "cell_type": "code",
   "execution_count": 51,
   "id": "b84cdf0c",
   "metadata": {},
   "outputs": [],
   "source": [
    "amt1 = res2[19].split()"
   ]
  },
  {
   "cell_type": "code",
   "execution_count": 52,
   "id": "72f6bfcf",
   "metadata": {},
   "outputs": [
    {
     "data": {
      "text/plain": [
       "['1748', '1', '5.83', '583', 'SR']"
      ]
     },
     "execution_count": 52,
     "metadata": {},
     "output_type": "execute_result"
    }
   ],
   "source": [
    "amt1"
   ]
  },
  {
   "cell_type": "code",
   "execution_count": 72,
   "id": "9726b26e",
   "metadata": {},
   "outputs": [
    {
     "name": "stdout",
     "output_type": "stream",
     "text": [
      "Total= 583\n"
     ]
    }
   ],
   "source": [
    "Total = print('Total=',amt1[3])"
   ]
  },
  {
   "cell_type": "code",
   "execution_count": 113,
   "id": "f07a075c",
   "metadata": {},
   "outputs": [
    {
     "name": "stdout",
     "output_type": "stream",
     "text": [
      "04/01/2018\n"
     ]
    }
   ],
   "source": [
    "dt2 =re.findall(r'\\d+[/.-]\\d+[/.-]\\d+', txt2)\n",
    "ft2=\" \"\n",
    "ft2=ft2.join(dt2)\n",
    "print(ft2)"
   ]
  },
  {
   "cell_type": "markdown",
   "id": "b0000d69",
   "metadata": {},
   "source": [
    "#### Final Output"
   ]
  },
  {
   "cell_type": "code",
   "execution_count": 115,
   "id": "36cd06b4",
   "metadata": {},
   "outputs": [
    {
     "name": "stdout",
     "output_type": "stream",
     "text": [
      "Name = SYARIKAT PERNIAGAAN GIN KEE \n",
      "Address= NO 290, JALAN AIR PANAS, SETAPAK, KUALA LUMPUR. \n",
      "Total= 583 \n",
      " 04/01/2018\n"
     ]
    }
   ],
   "source": [
    "print('Name =', res2[2],'\\n''Address=',final_add1,'\\n''Total=',amt1[3],'\\n',ft2)"
   ]
  },
  {
   "cell_type": "code",
   "execution_count": null,
   "id": "56b9eda6",
   "metadata": {},
   "outputs": [],
   "source": []
  }
 ],
 "metadata": {
  "kernelspec": {
   "display_name": "Python 3 (ipykernel)",
   "language": "python",
   "name": "python3"
  },
  "language_info": {
   "codemirror_mode": {
    "name": "ipython",
    "version": 3
   },
   "file_extension": ".py",
   "mimetype": "text/x-python",
   "name": "python",
   "nbconvert_exporter": "python",
   "pygments_lexer": "ipython3",
   "version": "3.9.12"
  }
 },
 "nbformat": 4,
 "nbformat_minor": 5
}
